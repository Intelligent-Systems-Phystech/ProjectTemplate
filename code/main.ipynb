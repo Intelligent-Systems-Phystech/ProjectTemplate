{
  "cells": [
    {
      "cell_type": "markdown",
      "metadata": {
        "id": "Fg5GvKa0qXkT"
      },
      "source": [
        "# Установка нужных библиотек"
      ]
    },
    {
      "cell_type": "code",
      "execution_count": 1,
      "metadata": {
        "id": "e51DLLWEqXkW",
        "outputId": "15ff3039-d650-423d-8095-614344671b51",
        "colab": {
          "base_uri": "https://localhost:8080/"
        }
      },
      "outputs": [
        {
          "output_type": "stream",
          "name": "stdout",
          "text": [
            "\u001b[K     |████████████████████████████████| 20.1 MB 1.2 MB/s \n",
            "\u001b[K     |████████████████████████████████| 25.2 MB 1.2 MB/s \n",
            "\u001b[K     |████████████████████████████████| 6.8 MB 45.8 MB/s \n",
            "\u001b[31mERROR: pip's dependency resolver does not currently take into account all the packages that are installed. This behaviour is the source of the following dependency conflicts.\n",
            "tables 3.7.0 requires numpy>=1.19.0, but you have numpy 1.18.5 which is incompatible.\n",
            "imbalanced-learn 0.8.1 requires scikit-learn>=0.24, but you have scikit-learn 0.23.2 which is incompatible.\n",
            "datascience 0.10.6 requires folium==0.2.1, but you have folium 0.8.3 which is incompatible.\n",
            "albumentations 0.1.12 requires imgaug<0.2.7,>=0.2.5, but you have imgaug 0.2.9 which is incompatible.\u001b[0m\n",
            "\u001b[?25h"
          ]
        }
      ],
      "source": [
        "import warnings\n",
        "warnings.filterwarnings(\"ignore\")\n",
        "\n",
        "try:\n",
        "    import google.colab\n",
        "    IN_COLAB = True\n",
        "except:\n",
        "    IN_COLAB = False\n",
        "    \n",
        "if IN_COLAB:\n",
        "    !wget -q -O requirements.txt https://raw.githubusercontent.com/Intelligent-Systems-Phystech/ProjectTemplate/master/code/requirements.txt\n",
        "    !pip install -q -r requirements.txt"
      ]
    },
    {
      "cell_type": "markdown",
      "metadata": {
        "id": "7P4TWOOmqXkY"
      },
      "source": [
        "# Импорт библиотек"
      ]
    },
    {
      "cell_type": "code",
      "execution_count": 2,
      "metadata": {
        "id": "4EVJmkwOqXkY"
      },
      "outputs": [],
      "source": [
        "import os\n",
        "\n",
        "import numpy\n",
        "from scipy.special import expit\n",
        "from sklearn.linear_model import LogisticRegression\n",
        "from sklearn.model_selection import train_test_split\n",
        "from sklearn.metrics import classification_report\n",
        "\n",
        "import matplotlib.pyplot as plt"
      ]
    },
    {
      "cell_type": "markdown",
      "source": [
        "# Настройка окружения"
      ],
      "metadata": {
        "id": "stLbGQHDq6lS"
      }
    },
    {
      "cell_type": "code",
      "source": [
        "if IN_COLAB:\n",
        "    figures = '.'\n",
        "else:\n",
        "    figures = '../figures'"
      ],
      "metadata": {
        "id": "0TbwjK9Qq5Pg"
      },
      "execution_count": 3,
      "outputs": []
    },
    {
      "cell_type": "markdown",
      "metadata": {
        "id": "f2HeCQ89qXkZ"
      },
      "source": [
        "# Работа с данными"
      ]
    },
    {
      "cell_type": "markdown",
      "metadata": {
        "id": "dJJn3rfVqXka"
      },
      "source": [
        "## Генерация синтетической выборки"
      ]
    },
    {
      "cell_type": "code",
      "execution_count": 4,
      "metadata": {
        "id": "OSQfsmRrqXka"
      },
      "outputs": [],
      "source": [
        "# Фиксируем random state\n",
        "numpy.random.seed(42)\n",
        "\n",
        "# Задаем параметры синтетической выборки\n",
        "n = 10 # Число признаков\n",
        "m = 1000 # Число объектов\n",
        "\n",
        "# Генерим синтетическую выборку\n",
        "w = numpy.random.randn(n) # Генерим вектор параметров из нормального распределения\n",
        "X = numpy.random.randn(m, n) # Генерим вектора признаков из нормального распределения\n",
        "\n",
        "y = numpy.random.binomial(1, expit(X@w)) # Гипотеза порождения данных - целевая переменная из схемы Бернули\n",
        "\n",
        "# Разделение выборки на обучение и контроль\n",
        "X_train, X_test, y_train, y_test =  train_test_split(X, y)"
      ]
    },
    {
      "cell_type": "markdown",
      "metadata": {
        "id": "KBgjk1tvqXkb"
      },
      "source": [
        "# Эксперимент с логистической регрессией"
      ]
    },
    {
      "cell_type": "markdown",
      "metadata": {
        "id": "19nb_usNqXkc"
      },
      "source": [
        "## Обучение одной модели"
      ]
    },
    {
      "cell_type": "code",
      "execution_count": 5,
      "metadata": {
        "id": "b5ajmI28qXkc",
        "outputId": "6a2a384a-3f27-4905-b380-d862d83d5e46",
        "colab": {
          "base_uri": "https://localhost:8080/"
        }
      },
      "outputs": [
        {
          "output_type": "stream",
          "name": "stdout",
          "text": [
            "              precision    recall  f1-score   support\n",
            "\n",
            "           0       0.82      0.86      0.84       116\n",
            "           1       0.88      0.84      0.85       134\n",
            "\n",
            "    accuracy                           0.85       250\n",
            "   macro avg       0.85      0.85      0.85       250\n",
            "weighted avg       0.85      0.85      0.85       250\n",
            "\n"
          ]
        }
      ],
      "source": [
        "model = LogisticRegression(penalty='l1', solver='saga', C=1.0)\n",
        "model.fit(X_train, y_train)\n",
        "\n",
        "print(classification_report(y_test, model.predict(X_test)))"
      ]
    },
    {
      "cell_type": "markdown",
      "metadata": {
        "id": "g1Mq2ylfqXkd"
      },
      "source": [
        "## Зависимость весов параметров от параметров регуляризации"
      ]
    },
    {
      "cell_type": "code",
      "execution_count": 6,
      "metadata": {
        "id": "HvHCcNPwqXkd"
      },
      "outputs": [],
      "source": [
        "Cs = numpy.linspace(0.1, 200, 100)\n",
        "parameters = []\n",
        "accuracy = []\n",
        "for C in Cs:\n",
        "    model = LogisticRegression(penalty='l1', solver='saga', C=1/C)\n",
        "    model.fit(X_train, y_train)\n",
        "\n",
        "    accuracy.append(\n",
        "        classification_report(\n",
        "            y_test, \n",
        "            model.predict(\n",
        "                X_test), \n",
        "            output_dict=True)['accuracy']\n",
        "    )\n",
        "    \n",
        "    parameters.extend(model.coef_)"
      ]
    },
    {
      "cell_type": "code",
      "execution_count": 7,
      "metadata": {
        "id": "LQL1mX1VqXke",
        "outputId": "4626fdfa-d222-483d-81a1-1cc1d0ad0b38",
        "colab": {
          "base_uri": "https://localhost:8080/",
          "height": 283
        }
      },
      "outputs": [
        {
          "output_type": "display_data",
          "data": {
            "image/png": "[encoded data removed]",
            "text/plain": [
              "<Figure size 432x288 with 1 Axes>"
            ]
          },
          "metadata": {
            "needs_background": "light"
          }
        }
      ],
      "source": [
        "plt.plot(Cs, parameters)\n",
        "\n",
        "plt.xlabel('Параметр регуляризации $C$')\n",
        "plt.ylabel('$w$')\n",
        "\n",
        "plt.savefig(\n",
        "    os.path.join(figures, 'log_reg_cs_exp.eps'),\n",
        "    bbox_inches='tight')\n",
        "\n",
        "plt.show()"
      ]
    }
  ],
  "metadata": {
    "kernelspec": {
      "display_name": "Python 3",
      "language": "python",
      "name": "python3"
    },
    "language_info": {
      "codemirror_mode": {
        "name": "ipython",
        "version": 3
      },
      "file_extension": ".py",
      "mimetype": "text/x-python",
      "name": "python",
      "nbconvert_exporter": "python",
      "pygments_lexer": "ipython3",
      "version": "3.7.3"
    },
    "colab": {
      "name": "main.ipynb",
      "provenance": []
    }
  },
  "nbformat": 4,
  "nbformat_minor": 0
}