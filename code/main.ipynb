{
 "cells": [
  {
   "cell_type": "markdown",
   "metadata": {},
   "source": [
    "# Установка нужных библиотек"
   ]
  },
  {
   "cell_type": "code",
   "execution_count": 1,
   "metadata": {},
   "outputs": [],
   "source": [
    "import warnings\n",
    "warnings.filterwarnings(\"ignore\")\n",
    "\n",
    "try:\n",
    "    import google.colab\n",
    "    IN_COLAB = True\n",
    "except:\n",
    "    IN_COLAB = False\n",
    "    \n",
    "if IN_COLAB:\n",
    "    !wget -q -O requirements.txt https://raw.githubusercontent.com/Intelligent-Systems-Phystech/ProjectTemplate/master/code/requirements.txt\n",
    "    !pip install -q -r requirements.txt"
   ]
  },
  {
   "cell_type": "markdown",
   "metadata": {},
   "source": [
    "# Импорт библиотек"
   ]
  },
  {
   "cell_type": "code",
   "execution_count": 2,
   "metadata": {},
   "outputs": [],
   "source": [
    "import numpy\n",
    "from scipy.special import expit\n",
    "from sklearn.linear_model import LogisticRegression\n",
    "from sklearn.model_selection import train_test_split\n",
    "from sklearn.metrics import classification_report\n",
    "\n",
    "import matplotlib.pyplot as plt"
   ]
  },
  {
   "cell_type": "markdown",
   "metadata": {},
   "source": [
    "# Работа с данными"
   ]
  },
  {
   "cell_type": "markdown",
   "metadata": {},
   "source": [
    "## Генерация синтетической выборки"
   ]
  },
  {
   "cell_type": "code",
   "execution_count": 3,
   "metadata": {},
   "outputs": [],
   "source": [
    "# Фиксируем random state\n",
    "numpy.random.seed(42)\n",
    "\n",
    "# Задаем параметры синтетической выборки\n",
    "n = 10 # Число признаков\n",
    "m = 1000 # Число объектов\n",
    "\n",
    "# Генерим синтетическую выборку\n",
    "w = numpy.random.randn(n) # Генерим вектор параметров из нормального распределения\n",
    "X = numpy.random.randn(m, n) # Генерим вектора признаков из нормального распределения\n",
    "\n",
    "y = numpy.random.binomial(1, expit(X@w)) # Гипотеза порождения данных - целевая переменная из схемы Бернули\n",
    "\n",
    "# Разделение выборки на обучение и контроль\n",
    "X_train, X_test, y_train, y_test =  train_test_split(X, y)"
   ]
  },
  {
   "cell_type": "markdown",
   "metadata": {},
   "source": [
    "# Эксперимент с логистической регрессией"
   ]
  },
  {
   "cell_type": "markdown",
   "metadata": {},
   "source": [
    "## Обучение одной модели"
   ]
  },
  {
   "cell_type": "code",
   "execution_count": 4,
   "metadata": {},
   "outputs": [
    {
     "name": "stdout",
     "output_type": "stream",
     "text": [
      "              precision    recall  f1-score   support\n",
      "\n",
      "           0       0.82      0.86      0.84       116\n",
      "           1       0.88      0.84      0.85       134\n",
      "\n",
      "    accuracy                           0.85       250\n",
      "   macro avg       0.85      0.85      0.85       250\n",
      "weighted avg       0.85      0.85      0.85       250\n",
      "\n"
     ]
    }
   ],
   "source": [
    "model = LogisticRegression(penalty='l1', solver='saga', C=1.0)\n",
    "model.fit(X_train, y_train)\n",
    "\n",
    "print(classification_report(y_test, model.predict(X_test)))"
   ]
  },
  {
   "cell_type": "markdown",
   "metadata": {},
   "source": [
    "## Зависимость весов параметров от параметров регуляризации"
   ]
  },
  {
   "cell_type": "code",
   "execution_count": 5,
   "metadata": {},
   "outputs": [],
   "source": [
    "Cs = numpy.linspace(0.1, 200, 100)\n",
    "parameters = []\n",
    "accuracy = []\n",
    "for C in Cs:\n",
    "    model = LogisticRegression(penalty='l1', solver='saga', C=1/C)\n",
    "    model.fit(X_train, y_train)\n",
    "\n",
    "    accuracy.append(\n",
    "        classification_report(\n",
    "            y_test, \n",
    "            model.predict(\n",
    "                X_test), \n",
    "            output_dict=True)['accuracy']\n",
    "    )\n",
    "    \n",
    "    parameters.extend(model.coef_)"
   ]
  },
  {
   "cell_type": "code",
   "execution_count": 6,
   "metadata": {},
   "outputs": [
    {
     "data": {
      "image/png": "[encoded data removed]",
      "text/plain": [
       "<Figure size 432x288 with 1 Axes>"
      ]
     },
     "metadata": {
      "needs_background": "light"
     },
     "output_type": "display_data"
    }
   ],
   "source": [
    "plt.plot(Cs, parameters)\n",
    "\n",
    "plt.xlabel('Параметр регуляризации $C$')\n",
    "plt.ylabel('$w$')\n",
    "\n",
    "plt.savefig('../figures/log_reg_cs_exp.eps', bbox_inches='tight')\n",
    "\n",
    "plt.show()"
   ]
  }
 ],
 "metadata": {
  "kernelspec": {
   "display_name": "Python 3",
   "language": "python",
   "name": "python3"
  },
  "language_info": {
   "codemirror_mode": {
    "name": "ipython",
    "version": 3
   },
   "file_extension": ".py",
   "mimetype": "text/x-python",
   "name": "python",
   "nbconvert_exporter": "python",
   "pygments_lexer": "ipython3",
   "version": "3.7.3"
  }
 },
 "nbformat": 4,
 "nbformat_minor": 4
}
