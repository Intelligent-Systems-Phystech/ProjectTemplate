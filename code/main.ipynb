{
  "cells": [
    {
      "cell_type": "markdown",
      "metadata": {
        "id": "Fg5GvKa0qXkT"
      },
      "source": [
        "# Установка нужных библиотек"
      ]
    },
    {
      "cell_type": "code",
      "execution_count": 1,
      "metadata": {
        "id": "e51DLLWEqXkW",
        "outputId": "27094984-95e4-4301-937e-2f3d1bd7f9b7",
        "colab": {
          "base_uri": "https://localhost:8080/"
        }
      },
      "outputs": [
        {
          "output_type": "stream",
          "name": "stdout",
          "text": [
            "\u001b[33m  DEPRECATION: A future pip version will change local packages to be built in-place without first copying to a temporary directory. We recommend you use --use-feature=in-tree-build to test your packages with this new behavior before it becomes the default.\n",
            "   pip 21.3 will remove support for this functionality. You can find discussion regarding this at https://github.com/pypa/pip/issues/7555.\u001b[0m\n",
            "  Building wheel for mylib (setup.py) ... \u001b[?25l\u001b[?25hdone\n"
          ]
        }
      ],
      "source": [
        "import warnings\n",
        "warnings.filterwarnings(\"ignore\")\n",
        "\n",
        "try:\n",
        "    import google.colab\n",
        "    IN_COLAB = True\n",
        "except:\n",
        "    IN_COLAB = False\n",
        "    \n",
        "if IN_COLAB:\n",
        "    !git clone -qq https://github.com/Intelligent-Systems-Phystech/ProjectTemplate.git /tmp/repo\n",
        "    !python3 -m pip install -qq /tmp/repo/src/ && rm -rf /tmp/repo"
      ]
    },
    {
      "cell_type": "markdown",
      "metadata": {
        "id": "7P4TWOOmqXkY"
      },
      "source": [
        "# Импорт библиотек"
      ]
    },
    {
      "cell_type": "code",
      "execution_count": 2,
      "metadata": {
        "id": "4EVJmkwOqXkY"
      },
      "outputs": [],
      "source": [
        "import os\n",
        "\n",
        "from sklearn.linear_model import LogisticRegression\n",
        "import matplotlib.pyplot as plt\n",
        "\n",
        "from mylib.train import cv_parameters, Trainer, SyntheticBernuliDataset"
      ]
    },
    {
      "cell_type": "markdown",
      "source": [
        "# Настройка окружения"
      ],
      "metadata": {
        "id": "stLbGQHDq6lS"
      }
    },
    {
      "cell_type": "code",
      "source": [
        "if IN_COLAB:\n",
        "    figures = '.'\n",
        "else:\n",
        "    figures = '../figures'"
      ],
      "metadata": {
        "id": "0TbwjK9Qq5Pg"
      },
      "execution_count": 3,
      "outputs": []
    },
    {
      "cell_type": "markdown",
      "metadata": {
        "id": "f2HeCQ89qXkZ"
      },
      "source": [
        "# Работа с данными"
      ]
    },
    {
      "cell_type": "markdown",
      "metadata": {
        "id": "dJJn3rfVqXka"
      },
      "source": [
        "## Генерация синтетической выборки"
      ]
    },
    {
      "cell_type": "code",
      "execution_count": 4,
      "metadata": {
        "id": "OSQfsmRrqXka"
      },
      "outputs": [],
      "source": [
        "dataset = SyntheticBernuliDataset(n=10, m=100, seed=42)"
      ]
    },
    {
      "cell_type": "markdown",
      "metadata": {
        "id": "KBgjk1tvqXkb"
      },
      "source": [
        "# Эксперимент с логистической регрессией"
      ]
    },
    {
      "cell_type": "markdown",
      "metadata": {
        "id": "19nb_usNqXkc"
      },
      "source": [
        "## Обучение одной модели"
      ]
    },
    {
      "cell_type": "code",
      "source": [
        "trainer = Trainer(\n",
        "    LogisticRegression(penalty='l1', solver='saga', C=1.0),\n",
        "    dataset.X, dataset.y,\n",
        ")\n",
        "\n",
        "trainer.train()\n",
        "print(trainer.eval())"
      ],
      "metadata": {
        "id": "ZMK7mqNQZPXJ",
        "outputId": "a95524d6-db85-4a34-9c36-fa2befec2f34",
        "colab": {
          "base_uri": "https://localhost:8080/"
        }
      },
      "execution_count": 5,
      "outputs": [
        {
          "output_type": "stream",
          "name": "stdout",
          "text": [
            "              precision    recall  f1-score   support\n",
            "\n",
            "           0       1.00      0.91      0.95        11\n",
            "           1       0.93      1.00      0.97        14\n",
            "\n",
            "    accuracy                           0.96        25\n",
            "   macro avg       0.97      0.95      0.96        25\n",
            "weighted avg       0.96      0.96      0.96        25\n",
            "\n"
          ]
        }
      ]
    },
    {
      "cell_type": "markdown",
      "metadata": {
        "id": "g1Mq2ylfqXkd"
      },
      "source": [
        "## Зависимость весов параметров от параметров регуляризации"
      ]
    },
    {
      "cell_type": "code",
      "execution_count": 6,
      "metadata": {
        "id": "HvHCcNPwqXkd"
      },
      "outputs": [],
      "source": [
        "Cs, accuracy, parameters = cv_parameters(dataset.X, dataset.y)"
      ]
    },
    {
      "cell_type": "code",
      "execution_count": 7,
      "metadata": {
        "id": "LQL1mX1VqXke",
        "outputId": "0868006d-d6c1-4504-9e66-d66af0fb56e9",
        "colab": {
          "base_uri": "https://localhost:8080/",
          "height": 283
        }
      },
      "outputs": [
        {
          "output_type": "display_data",
          "data": {
            "text/plain": [
              "<Figure size 432x288 with 1 Axes>"
            ],
            "image/png": "[encoded data removed]"
          },
          "metadata": {
            "needs_background": "light"
          }
        }
      ],
      "source": [
        "plt.plot(Cs, parameters)\n",
        "\n",
        "plt.xlabel('Параметр регуляризации $C$')\n",
        "plt.ylabel('$w$')\n",
        "\n",
        "plt.savefig(\n",
        "    os.path.join(figures, 'log_reg_cs_exp.eps'),\n",
        "    bbox_inches='tight')\n",
        "\n",
        "plt.show()"
      ]
    }
  ],
  "metadata": {
    "kernelspec": {
      "display_name": "Python 3",
      "language": "python",
      "name": "python3"
    },
    "language_info": {
      "codemirror_mode": {
        "name": "ipython",
        "version": 3
      },
      "file_extension": ".py",
      "mimetype": "text/x-python",
      "name": "python",
      "nbconvert_exporter": "python",
      "pygments_lexer": "ipython3",
      "version": "3.7.3"
    },
    "colab": {
      "name": "main.ipynb",
      "provenance": []
    }
  },
  "nbformat": 4,
  "nbformat_minor": 0
}